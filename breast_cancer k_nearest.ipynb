{
 "cells": [
  {
   "cell_type": "code",
   "execution_count": 8,
   "metadata": {
    "collapsed": true
   },
   "outputs": [],
   "source": [
    "from math import sqrt\n",
    "import pandas as pd\n",
    "import numpy as np\n",
    "import matplotlib.pyplot as plt\n",
    "from matplotlib import style\n",
    "from collections import Counter\n",
    "style.use('fivethirtyeight')\n",
    "import random\n",
    "import warnings"
   ]
  },
  {
   "cell_type": "code",
   "execution_count": 14,
   "metadata": {
    "collapsed": true
   },
   "outputs": [],
   "source": [
    "def k_nearest_neighbor(data, predict, k=3):\n",
    "    if len(data)>=k:\n",
    "        warnings.warn('k is not equal  idiot')\n",
    "    #knnalgos\n",
    "    distances=[]\n",
    "    for group in data:\n",
    "        for features in data[group]:\n",
    "            euclidean_distance = np.linalg.norm(np.array(features)-np.array(predict))\n",
    "            distances.append([euclidean_distance, group])\n",
    "    votes=[i[1] for i in sorted(distances)[:k]]\n",
    "    #print(Counter(votes).most_common(1))\n",
    "    vote_result = Counter(votes).most_common(1)[0][0]\n",
    "    return vote_result\n"
   ]
  },
  {
   "cell_type": "code",
   "execution_count": 15,
   "metadata": {},
   "outputs": [
    {
     "name": "stdout",
     "output_type": "stream",
     "text": [
      "0.9856115107913669\n"
     ]
    }
   ],
   "source": [
    "df=pd.read_csv('breast-cancer-wisconsin.txt')\n",
    "df.replace('?',-99999,inplace=True)\n",
    "df.drop(['id'], 1, inplace= True)\n",
    "full_data=df.astype(float).values.tolist()\n",
    "\n",
    "#print(full_data[:10])\n",
    "random.shuffle(full_data)\n",
    "#we shuffled the data\n",
    "test_size=0.2\n",
    "train_set={2:[], 4:[]}\n",
    "test_set={2:[], 4:[]}\n",
    "train_data= full_data[:-int(test_size*len(full_data))]\n",
    "test_data=full_data[-int(test_size*len(full_data)):]\n",
    "\n",
    "for i in train_data:\n",
    "    train_set[i[-1]].append(i[:-1])\n",
    " #here i is the elemental list in train data nowtrain_set[i[-1]]helps us to decide in which part it is to be added   \n",
    "    \n",
    "for i in test_data:\n",
    "    test_set[i[-1]].append(i[:-1])   \n",
    "    \n",
    "correct=0 \n",
    "total=0\n",
    "for group in test_set:\n",
    "    for data in test_set[group]:\n",
    "        vote = k_nearest_neighbor(train_set, data, k=5)\n",
    "        if group==vote:\n",
    "            correct+=1\n",
    "        total+=1 \n",
    "        \n",
    "        \n",
    "print(correct/total)        "
   ]
  },
  {
   "cell_type": "code",
   "execution_count": null,
   "metadata": {
    "collapsed": true
   },
   "outputs": [],
   "source": []
  }
 ],
 "metadata": {
  "kernelspec": {
   "display_name": "Python 3",
   "language": "python",
   "name": "python3"
  },
  "language_info": {
   "codemirror_mode": {
    "name": "ipython",
    "version": 3
   },
   "file_extension": ".py",
   "mimetype": "text/x-python",
   "name": "python",
   "nbconvert_exporter": "python",
   "pygments_lexer": "ipython3",
   "version": "3.6.3"
  }
 },
 "nbformat": 4,
 "nbformat_minor": 2
}
